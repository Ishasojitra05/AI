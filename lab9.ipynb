{
  "nbformat": 4,
  "nbformat_minor": 0,
  "metadata": {
    "colab": {
      "provenance": [],
      "authorship_tag": "ABX9TyO7os3EQIJ/KZ3Ob+3tMyYY",
      "include_colab_link": true
    },
    "kernelspec": {
      "name": "python3",
      "display_name": "Python 3"
    },
    "language_info": {
      "name": "python"
    }
  },
  "cells": [
    {
      "cell_type": "markdown",
      "metadata": {
        "id": "view-in-github",
        "colab_type": "text"
      },
      "source": [
        "<a href=\"https://colab.research.google.com/github/Ishasojitra05/Compiler/blob/main/lab9.ipynb\" target=\"_parent\"><img src=\"https://colab.research.google.com/assets/colab-badge.svg\" alt=\"Open In Colab\"/></a>"
      ]
    },
    {
      "cell_type": "code",
      "source": [
        "import os\n",
        "print(os.listdir('/content'))\n"
      ],
      "metadata": {
        "id": "kVSI-lZjcVX2",
        "colab": {
          "base_uri": "https://localhost:8080/"
        },
        "outputId": "281f98c3-2498-4b0f-8ebc-8cb2f616f02e"
      },
      "execution_count": 5,
      "outputs": [
        {
          "output_type": "stream",
          "name": "stdout",
          "text": [
            "['.config', 'archive (2).zip', '.ipynb_checkpoints', 'sample_data']\n"
          ]
        }
      ]
    },
    {
      "cell_type": "code",
      "source": [
        "!unzip \"/content/archive (2).zip\" -d /content/fashion_mnist_data\n"
      ],
      "metadata": {
        "colab": {
          "base_uri": "https://localhost:8080/"
        },
        "id": "iC7HfpiWe023",
        "outputId": "6934fa60-7351-4671-e2df-665b95690ceb"
      },
      "execution_count": 6,
      "outputs": [
        {
          "output_type": "stream",
          "name": "stdout",
          "text": [
            "Archive:  /content/archive (2).zip\n",
            "  inflating: /content/fashion_mnist_data/fashion-mnist_test.csv  \n",
            "  inflating: /content/fashion_mnist_data/fashion-mnist_train.csv  \n",
            "  inflating: /content/fashion_mnist_data/t10k-images-idx3-ubyte  \n",
            "  inflating: /content/fashion_mnist_data/t10k-labels-idx1-ubyte  \n",
            "  inflating: /content/fashion_mnist_data/train-images-idx3-ubyte  \n",
            "  inflating: /content/fashion_mnist_data/train-labels-idx1-ubyte  \n"
          ]
        }
      ]
    },
    {
      "cell_type": "code",
      "source": [
        "import os\n",
        "print(os.listdir('/content/fashion_mnist_data'))\n"
      ],
      "metadata": {
        "colab": {
          "base_uri": "https://localhost:8080/"
        },
        "id": "l1IZoV6be5JI",
        "outputId": "9ef3dcb2-6bc1-4b67-c0a7-8461885067de"
      },
      "execution_count": 7,
      "outputs": [
        {
          "output_type": "stream",
          "name": "stdout",
          "text": [
            "['fashion-mnist_test.csv', 'fashion-mnist_train.csv', 't10k-labels-idx1-ubyte', 'train-labels-idx1-ubyte', 'train-images-idx3-ubyte', 't10k-images-idx3-ubyte']\n"
          ]
        }
      ]
    },
    {
      "cell_type": "code",
      "source": [
        "train_df = pd.read_csv('/content/fashion_mnist_data/fashion-mnist_train.csv')\n",
        "test_df = pd.read_csv('/content/fashion_mnist_data/fashion-mnist_test.csv')\n"
      ],
      "metadata": {
        "id": "QjR2MKEffHTd"
      },
      "execution_count": 9,
      "outputs": []
    },
    {
      "cell_type": "code",
      "source": [
        "import numpy as np\n",
        "import pandas as pd\n",
        "import matplotlib.pyplot as plt\n",
        "import tensorflow as tf\n",
        "from tensorflow.keras.models import Sequential\n",
        "from tensorflow.keras.layers import Conv2D, MaxPooling2D, Dropout, Flatten, Dense\n",
        "from tensorflow.keras.callbacks import EarlyStopping\n",
        "from sklearn.metrics import classification_report, confusion_matrix\n",
        "\n",
        "# Step 1: Dataset Acquisition & Preprocessing\n",
        "fashion_mnist = tf.keras.datasets.fashion_mnist\n",
        "(x_train, y_train), (x_test, y_test) = fashion_mnist.load_data()\n",
        "\n",
        "# Normalize pixel values to [0,1]\n",
        "x_train = x_train / 255.0\n",
        "x_test = x_test / 255.0\n",
        "\n",
        "# Reshape to (28, 28, 1)\n",
        "x_train = x_train.reshape(-1, 28, 28, 1)\n",
        "x_test = x_test.reshape(-1, 28, 28, 1)\n",
        "\n",
        "# One-hot encoding labels\n",
        "y_train = tf.keras.utils.to_categorical(y_train, 10)\n",
        "y_test = tf.keras.utils.to_categorical(y_test, 10)\n",
        "\n",
        "# Step 2: CNN Architecture with Dropout\n",
        "model = Sequential([\n",
        "    Conv2D(32, (3, 3), activation='relu', input_shape=(28, 28, 1)),\n",
        "    MaxPooling2D((2, 2)),\n",
        "    Dropout(0.25),\n",
        "\n",
        "    Conv2D(64, (3, 3), activation='relu'),\n",
        "    MaxPooling2D((2, 2)),\n",
        "    Dropout(0.25),\n",
        "\n",
        "    Flatten(),\n",
        "    Dense(128, activation='relu'),\n",
        "    Dropout(0.5),\n",
        "\n",
        "    Dense(10, activation='softmax')\n",
        "])\n",
        "\n",
        "# Step 3: Model Compilation & Training\n",
        "model.compile(\n",
        "    optimizer='adam',\n",
        "    loss='categorical_crossentropy',\n",
        "    metrics=['accuracy']\n",
        ")\n",
        "\n",
        "early_stopping = EarlyStopping(monitor='val_loss', patience=3, restore_best_weights=True)\n",
        "\n",
        "history = model.fit(\n",
        "    x_train, y_train,\n",
        "    epochs=5,\n",
        "    batch_size=32,\n",
        "    validation_split=0.2,\n",
        "    callbacks=[early_stopping]\n",
        ")\n",
        "\n",
        "# Step 4: Evaluation & Performance Metrics\n",
        "loss, accuracy = model.evaluate(x_test, y_test)\n",
        "print(f\"Test Accuracy: {accuracy:.2f}\")\n",
        "\n",
        "# Confusion Matrix\n",
        "y_pred = np.argmax(model.predict(x_test), axis=1)\n",
        "y_true = np.argmax(y_test, axis=1)\n",
        "\n",
        "conf_matrix = confusion_matrix(y_true, y_pred)\n",
        "print(\"Confusion Matrix:\\n\", conf_matrix)\n",
        "\n",
        "# Classification Report\n",
        "print(\"Classification Report:\\n\", classification_report(y_true, y_pred))\n",
        "\n",
        "# Plot Training History\n",
        "plt.plot(history.history['accuracy'], label='Training Accuracy')\n",
        "plt.plot(history.history['val_accuracy'], label='Validation Accuracy')\n",
        "plt.xlabel('Epochs')\n",
        "plt.ylabel('Accuracy')\n",
        "plt.legend()\n",
        "plt.show()\n"
      ],
      "metadata": {
        "colab": {
          "base_uri": "https://localhost:8080/",
          "height": 1000
        },
        "id": "77FZVgXiea1B",
        "outputId": "36241b8c-3de5-4173-e751-0b47ed56058d"
      },
      "execution_count": 11,
      "outputs": [
        {
          "output_type": "stream",
          "name": "stdout",
          "text": [
            "Epoch 1/5\n",
            "\u001b[1m1500/1500\u001b[0m \u001b[32m━━━━━━━━━━━━━━━━━━━━\u001b[0m\u001b[37m\u001b[0m \u001b[1m55s\u001b[0m 36ms/step - accuracy: 0.6838 - loss: 0.8681 - val_accuracy: 0.8512 - val_loss: 0.4027\n",
            "Epoch 2/5\n",
            "\u001b[1m1500/1500\u001b[0m \u001b[32m━━━━━━━━━━━━━━━━━━━━\u001b[0m\u001b[37m\u001b[0m \u001b[1m56s\u001b[0m 37ms/step - accuracy: 0.8316 - loss: 0.4644 - val_accuracy: 0.8720 - val_loss: 0.3477\n",
            "Epoch 3/5\n",
            "\u001b[1m1500/1500\u001b[0m \u001b[32m━━━━━━━━━━━━━━━━━━━━\u001b[0m\u001b[37m\u001b[0m \u001b[1m54s\u001b[0m 36ms/step - accuracy: 0.8547 - loss: 0.4039 - val_accuracy: 0.8850 - val_loss: 0.3120\n",
            "Epoch 4/5\n",
            "\u001b[1m1500/1500\u001b[0m \u001b[32m━━━━━━━━━━━━━━━━━━━━\u001b[0m\u001b[37m\u001b[0m \u001b[1m83s\u001b[0m 37ms/step - accuracy: 0.8694 - loss: 0.3603 - val_accuracy: 0.8852 - val_loss: 0.3083\n",
            "Epoch 5/5\n",
            "\u001b[1m1500/1500\u001b[0m \u001b[32m━━━━━━━━━━━━━━━━━━━━\u001b[0m\u001b[37m\u001b[0m \u001b[1m52s\u001b[0m 35ms/step - accuracy: 0.8761 - loss: 0.3404 - val_accuracy: 0.8970 - val_loss: 0.2801\n",
            "\u001b[1m313/313\u001b[0m \u001b[32m━━━━━━━━━━━━━━━━━━━━\u001b[0m\u001b[37m\u001b[0m \u001b[1m3s\u001b[0m 9ms/step - accuracy: 0.8973 - loss: 0.2911\n",
            "Test Accuracy: 0.89\n",
            "\u001b[1m313/313\u001b[0m \u001b[32m━━━━━━━━━━━━━━━━━━━━\u001b[0m\u001b[37m\u001b[0m \u001b[1m4s\u001b[0m 11ms/step\n",
            "Confusion Matrix:\n",
            " [[894   1  16  23   4   0  56   0   6   0]\n",
            " [  0 973   0  19   4   0   2   0   2   0]\n",
            " [ 16   0 850   8  63   0  62   0   1   0]\n",
            " [ 16   4  10 894  40   0  36   0   0   0]\n",
            " [  0   1  54  19 869   0  56   0   1   0]\n",
            " [  0   0   0   0   0 975   0  18   0   7]\n",
            " [165   1  92  25 105   0 603   0   9   0]\n",
            " [  0   0   0   0   0   7   0 984   1   8]\n",
            " [  2   1   5   2   4   2  11   3 970   0]\n",
            " [  0   0   0   0   0   4   0  66   0 930]]\n",
            "Classification Report:\n",
            "               precision    recall  f1-score   support\n",
            "\n",
            "           0       0.82      0.89      0.85      1000\n",
            "           1       0.99      0.97      0.98      1000\n",
            "           2       0.83      0.85      0.84      1000\n",
            "           3       0.90      0.89      0.90      1000\n",
            "           4       0.80      0.87      0.83      1000\n",
            "           5       0.99      0.97      0.98      1000\n",
            "           6       0.73      0.60      0.66      1000\n",
            "           7       0.92      0.98      0.95      1000\n",
            "           8       0.98      0.97      0.97      1000\n",
            "           9       0.98      0.93      0.96      1000\n",
            "\n",
            "    accuracy                           0.89     10000\n",
            "   macro avg       0.89      0.89      0.89     10000\n",
            "weighted avg       0.89      0.89      0.89     10000\n",
            "\n"
          ]
        },
        {
          "output_type": "display_data",
          "data": {
            "text/plain": [
              "<Figure size 640x480 with 1 Axes>"
            ],
            "image/png": "[encoded data removed]"
          },
          "metadata": {}
        }
      ]
    },
    {
      "cell_type": "code",
      "source": [],
      "metadata": {
        "id": "0npOaxkGfGBu"
      },
      "execution_count": null,
      "outputs": []
    }
  ]
}